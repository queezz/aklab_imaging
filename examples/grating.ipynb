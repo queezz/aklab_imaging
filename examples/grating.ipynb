{
 "cells": [
  {
   "cell_type": "code",
   "execution_count": null,
   "id": "e71df96c",
   "metadata": {},
   "outputs": [],
   "source": [
    "from aklab_imaging import Spectrometer"
   ]
  },
  {
   "cell_type": "code",
   "execution_count": null,
   "id": "4eb577b0",
   "metadata": {},
   "outputs": [],
   "source": [
    "spectrometer = Spectrometer()"
   ]
  },
  {
   "cell_type": "code",
   "execution_count": null,
   "id": "1754e6b2",
   "metadata": {},
   "outputs": [],
   "source": [
    "#spectrometer.get_position()\n",
    "# 450k - Ne lines\n",
    "# 1000 ~ 300 pixels\n",
    "# - 1000 ~ +300 pixels\n",
    "positions = {\n",
    "    'hgamma':int(632.4*1e3),\n",
    "    'hbeta':int(584*1e3),\n",
    "    'halpha':int(399.5*1e3),\n",
    "}\n",
    "#spectrometer.grating_motor.goto(int(632.4*1000))"
   ]
  }
 ],
 "metadata": {
  "kernelspec": {
   "display_name": "sci312",
   "language": "python",
   "name": "python3"
  },
  "language_info": {
   "codemirror_mode": {
    "name": "ipython",
    "version": 3
   },
   "file_extension": ".py",
   "mimetype": "text/x-python",
   "name": "python",
   "nbconvert_exporter": "python",
   "pygments_lexer": "ipython3",
   "version": "3.12.11"
  }
 },
 "nbformat": 4,
 "nbformat_minor": 5
}
